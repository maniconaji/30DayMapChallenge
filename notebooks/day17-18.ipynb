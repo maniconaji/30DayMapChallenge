{
 "cells": [
  {
   "cell_type": "code",
   "execution_count": null,
   "id": "0f4ee46b-05f1-4a1c-872d-2a8d3b3db768",
   "metadata": {},
   "outputs": [],
   "source": [
    "import ee\n",
    "import os\n",
    "import geemap"
   ]
  },
  {
   "cell_type": "code",
   "execution_count": null,
   "id": "e7ed4e5d-2659-4190-aa46-63e5601d4190",
   "metadata": {},
   "outputs": [],
   "source": [
    "# Trigger the authentication flow.\n",
    "ee.Authenticate()\n",
    "\n",
    "# Initialize the library.\n",
    "ee.Initialize()"
   ]
  },
  {
   "cell_type": "code",
   "execution_count": null,
   "id": "c4b1629a-7875-460f-8442-73b79310f40b",
   "metadata": {},
   "outputs": [],
   "source": [
    "roi = ee.Geometry.Rectangle(coords = [[-71.2, -34.83], [-70.98, -34.70]])\n",
    "\n",
    "Map = geemap.Map()"
   ]
  },
  {
   "cell_type": "code",
   "execution_count": null,
   "id": "0d4b818c-07e1-4e98-800d-ff54e20dfc1a",
   "metadata": {},
   "outputs": [],
   "source": [
    "collection = geemap.landsat_timeseries(roi=roi, start_year=1985, end_year=2019, start_date='01-01', end_date='12-31')"
   ]
  },
  {
   "cell_type": "code",
   "execution_count": null,
   "id": "66b30085-8f98-4532-88d6-b5008ea74ad6",
   "metadata": {},
   "outputs": [],
   "source": [
    "# dataset = ee.ImageCollection('COPERNICUS/S2')\\\n",
    "#                 .filterDate('2017-12-01', '2018-02-28')\\\n",
    "#                     .filter(ee.Filter.lt('CLOUDY_PIXEL_PERCENTAGE', 60))\\\n",
    "#                         .map(maskS2clouds)\\\n",
    "#                             .map(cut_by_roi)\n",
    "\n",
    "# rgbVis = dict(min = 0.0, max = 0.3, bands = ['B8', 'B4', 'B3'])\n",
    "# Ma p.setCenter(-71.092819, -34.766693, 12)\n",
    "# Map.addLayer(dataset.median(), rgbVis, 'RGB')\n",
    "# Map"
   ]
  },
  {
   "cell_type": "code",
   "execution_count": null,
   "id": "983008ec-8817-4877-a922-d995459e47d1",
   "metadata": {},
   "outputs": [],
   "source": [
    "print(collection.size().getInfo())"
   ]
  },
  {
   "cell_type": "code",
   "execution_count": null,
   "id": "15408b5c-a549-4f35-a66f-d06809e41ac3",
   "metadata": {},
   "outputs": [],
   "source": [
    "Info = collection.getInfo()"
   ]
  },
  {
   "cell_type": "code",
   "execution_count": null,
   "id": "1abc8c48-90c9-4b1f-b28d-58de55ef6ed2",
   "metadata": {},
   "outputs": [],
   "source": [
    "bands = [values['id'] for values in Info['features'][0]['bands']]\n",
    "bands"
   ]
  },
  {
   "cell_type": "code",
   "execution_count": null,
   "id": "2ce93599-de94-46a0-972c-28675582baf2",
   "metadata": {},
   "outputs": [],
   "source": [
    "# Define arguments for animation function parameters.\n",
    "video_args = {\n",
    "  'dimensions': 768,\n",
    "  'region': roi,\n",
    "  'framesPerSecond': 5,\n",
    "  'bands': ['NIR', 'Red', 'Green'],\n",
    "  'min': 0,\n",
    "  'max': 4000,\n",
    "  'gamma': [1, 1, 1]\n",
    "}"
   ]
  },
  {
   "cell_type": "code",
   "execution_count": null,
   "id": "75822d5d-5dbe-4c65-b72e-5809290d3e02",
   "metadata": {},
   "outputs": [],
   "source": [
    "out_gif = \"../maps/30DayMapChallengeDay18.gif\"\n",
    "geemap.download_ee_video(collection, video_args, out_gif)\n",
    "geemap.show_image(out_gif)"
   ]
  },
  {
   "cell_type": "code",
   "execution_count": null,
   "id": "305e1ab5-4cf4-4703-86df-7695e14d6cbb",
   "metadata": {},
   "outputs": [],
   "source": [
    "texted_gif = \"landsat_ts_text.gif\"\n",
    "geemap.add_text_to_gif(out_gif, out_gif, xy=('3%', '5%'), text_sequence=1985, font_size=30, font_color='#ffffff', add_progress_bar=False, duration=200)\n",
    "label = 'Embalse Convento Viejo'\n",
    "geemap.add_text_to_gif(out_gif, out_gif, xy=('2%', '88%'), text_sequence=label, font_size=30, font_color='#ffffff', progress_bar_color='cyan', duration=200)\n",
    "geemap.show_image(out_gif)"
   ]
  },
  {
   "cell_type": "code",
   "execution_count": null,
   "id": "d6042331-5708-474a-905d-df85c6643085",
   "metadata": {},
   "outputs": [],
   "source": [
    "def addNDVI(image):\n",
    "    ndvi = image.normalizedDifference(['NIR', 'Red']).rename('NDVI')\n",
    "    return image.addBands(ndvi)\n",
    "\n",
    "ndvi = collection.map(addNDVI).select('NDVI')"
   ]
  },
  {
   "cell_type": "code",
   "execution_count": null,
   "id": "4ab29e61-7ee1-48c9-92cf-295e7efba0ad",
   "metadata": {},
   "outputs": [],
   "source": [
    "# Define arguments for animation function parameters.\n",
    "video_args = {\n",
    "  'dimensions': 768,\n",
    "  'region': roi,\n",
    "  'framesPerSecond': 5,\n",
    "  'bands': ['NDVI'],\n",
    "  'min': 0,\n",
    "  'max': 1,\n",
    "    'palette': [\n",
    "    'FFFFFF', 'CE7E45', 'DF923D', 'F1B555', 'FCD163', '99B718', '74A901',\n",
    "    '66A000', '529400', '3E8601', '207401', '056201', '004C00', '023B01',\n",
    "    '012E01', '011D01', '011301'\n",
    "  ]\n",
    "}"
   ]
  },
  {
   "cell_type": "code",
   "execution_count": null,
   "id": "e1ac9493-555a-4953-aa74-2359c0db7238",
   "metadata": {},
   "outputs": [],
   "source": [
    "out_gif = \"../maps/30DayMapChallengeDay17.gif\"\n",
    "geemap.download_ee_video(ndvi, video_args, out_gif)\n",
    "geemap.show_image(out_gif)"
   ]
  },
  {
   "cell_type": "code",
   "execution_count": null,
   "id": "68b9d6b5-e05d-41e5-b371-51b625d03cf4",
   "metadata": {},
   "outputs": [],
   "source": [
    "texted_gif = \"landsat_ts_text.gif\"\n",
    "geemap.add_text_to_gif(out_gif, out_gif, xy=('3%', '5%'), text_sequence=1985, font_size=30, font_color='#ffffff', add_progress_bar=False, duration=200)\n",
    "label = 'Embalse Convento Viejo'\n",
    "geemap.add_text_to_gif(out_gif, out_gif, xy=('2%', '88%'), text_sequence=label, font_size=30, font_color='#ffffff', progress_bar_color='black', duration=200)\n",
    "geemap.show_image(out_gif)"
   ]
  }
 ],
 "metadata": {
  "kernelspec": {
   "display_name": "Python 3 (ipykernel)",
   "language": "python",
   "name": "python3"
  },
  "language_info": {
   "codemirror_mode": {
    "name": "ipython",
    "version": 3
   },
   "file_extension": ".py",
   "mimetype": "text/x-python",
   "name": "python",
   "nbconvert_exporter": "python",
   "pygments_lexer": "ipython3",
   "version": "3.8.12"
  }
 },
 "nbformat": 4,
 "nbformat_minor": 5
}
