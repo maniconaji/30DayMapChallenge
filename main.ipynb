{
 "cells": [
  {
   "cell_type": "markdown",
   "id": "ce97e9a9-c6e4-4b78-9fa2-98c5982e726f",
   "metadata": {
    "tags": []
   },
   "source": [
    "# **Día 2:** Lines"
   ]
  },
  {
   "cell_type": "code",
   "execution_count": null,
   "id": "d08d4d2e-ad8e-4825-9ca3-042930c33476",
   "metadata": {},
   "outputs": [],
   "source": [
    "import osmnx as ox\n",
    "import matplotlib.pyplot as plt\n",
    "%matplotlib inline\n",
    "\n",
    "# Specify the name that is used to seach for the data\n",
    "place_name = \"Easter Island, Chile\"\n",
    "\n",
    "# Fetch OSM street network from the location\n",
    "graph = ox.graph_from_place(place_name)\n",
    "\n",
    "fig_kwargs = dict(figsize=(12, 12), bgcolor='white', node_color='k', node_size=2.5, node_alpha=None, node_edgecolor='none', \n",
    "                  node_zorder=1, edge_color='k', edge_linewidth=0.75, edge_alpha=None, show=True, close=False, save=False, \n",
    "                  filepath=None, dpi=300, bbox=None)\n",
    "\n",
    "fig, ax = ox.plot_graph(graph, **fig_kwargs)\n",
    "\n",
    "# Save nodes and edges from the location\n",
    "ox.io.save_graph_geopackage(graph, filepath=\"data/EasterIsland/EasterIsland.gpkg\")"
   ]
  },
  {
   "cell_type": "markdown",
   "id": "ed6345e9-65e9-4580-b3f8-1beb0e496f1f",
   "metadata": {},
   "source": [
    "# **Day 07 and 08:** Green and Blue"
   ]
  },
  {
   "cell_type": "code",
   "execution_count": null,
   "id": "ae277563",
   "metadata": {},
   "outputs": [],
   "source": [
    "import pandas as pd\n",
    "import geopandas as gpd\n",
    "from IPython.display import display\n",
    "\n",
    "df = pd.read_csv(\"data/chile/sdm-102021.csv\")\n",
    "display(df.head())\n",
    "gdf = gpd.read_file(\"data/chile/COMUNA/COMUNAS_2020.shp\").astype({\"CUT_REG\": \"int64\", \"CUT_PROV\": \"int64\",\"CUT_COM\": \"int64\",})\n",
    "display(gdf.head())"
   ]
  },
  {
   "cell_type": "code",
   "execution_count": null,
   "id": "3aec406c",
   "metadata": {},
   "outputs": [],
   "source": [
    "df.columns "
   ]
  },
  {
   "cell_type": "code",
   "execution_count": null,
   "id": "5d0cde59",
   "metadata": {},
   "outputs": [],
   "source": [
    "rename_columns  = {\" N° Hombre\": \"N_Hombre\", \" Mto.Hombre\": \"Monto_Hombre\", \"Nº Mujer\": \"N_Mujer\", \" Mto.Mujer\": \"Monto_Mujer\", \" Nº\": \"N_Total\", \" Monto m$\": \"Monto_Total\"} \n",
    "drop_columns    = [\"Región\", \"Cód Comuna\", \"Glosa Comuna\", \"cod_reg\", \"SUPERFICIE\"]\n",
    "reindex_columns = [\"CUT_REG\", \"CUT_PROV\", \"CUT_COM\", \"REGION\", \"PROVINCIA\", \"COMUNA\", \n",
    "\"N_Hombre\", \"Monto_Hombre\", \"N_Mujer\", \"Monto_Mujer\", \"N_Total\", \"Monto_Total\", \"geometry\"]\n",
    "\n",
    "join_df = gpd.GeoDataFrame(df.merge(gdf, how=\"inner\", left_on=\"Cód Comuna\", right_on =\"CUT_COM\")\\\n",
    "    .rename(columns = rename_columns)\\\n",
    "        .drop(columns = drop_columns)\\\n",
    "            .reindex(columns = reindex_columns)).set_crs(\"EPSG:4326\", allow_override=True)\n",
    "join_df.head()"
   ]
  },
  {
   "cell_type": "code",
   "execution_count": null,
   "id": "ec13917a",
   "metadata": {},
   "outputs": [],
   "source": [
    "join_df.plot()"
   ]
  },
  {
   "cell_type": "code",
   "execution_count": null,
   "id": "9f44a3d0",
   "metadata": {},
   "outputs": [],
   "source": [
    "def save_geodataframe(gdf, filepath):\n",
    "    for geotype in ['Point', 'LineString', 'Polygon', 'MultiPoint', 'MultiLineString', 'MultiPolygon']:\n",
    "        if (gdf.geometry.geom_type == geotype).any():\n",
    "            gdf.loc[gdf.geometry.geom_type == geotype].to_file(filepath, driver=\"GPKG\", layer=geotype)\n",
    "\n",
    "save_geodataframe(join_df, \"data/chile/sdm-102021.gpkg\")"
   ]
  },
  {
   "cell_type": "code",
   "execution_count": null,
   "id": "0c7113aa",
   "metadata": {},
   "outputs": [],
   "source": [
    "group_df = df.groupby(\"Región\").sum()\n",
    "group_df['montoxpersona'] = group_df[' Monto m$']/group_df[' Nº']\n",
    "group_df.to_csv(\"data\\chile\\group_sdm-102021.csv\")"
   ]
  },
  {
   "cell_type": "markdown",
   "id": "3df6db4e",
   "metadata": {},
   "source": [
    "# **Day 10:** Raster"
   ]
  },
  {
   "cell_type": "code",
   "execution_count": 3,
   "id": "16bc794e",
   "metadata": {},
   "outputs": [],
   "source": [
    "import numpy as np\n",
    "import xarray as xr\n",
    "import cdsapi\n",
    "import os\n",
    "import rioxarray\n",
    "import cartopy.crs as ccrs"
   ]
  },
  {
   "cell_type": "code",
   "execution_count": null,
   "id": "b039491f",
   "metadata": {},
   "outputs": [],
   "source": [
    "def request_info_from_copernicus(dataset_short_name, kwargs_request, path_folder, name_file):\n",
    "    #start client\n",
    "    c = cdsapi.Client()\n",
    "    #check if folder is created\n",
    "    if os.path.isdir(path_folder) == False:\n",
    "        os.mkdir(path_folder)\n",
    "    else:\n",
    "        pass\n",
    "    #start request\n",
    "    c.retrieve(\n",
    "        dataset_short_name, \n",
    "        kwargs_request, \n",
    "        path_folder+name_file\n",
    "        )\n",
    "    return"
   ]
  },
  {
   "cell_type": "code",
   "execution_count": null,
   "id": "a6b8cf2d",
   "metadata": {},
   "outputs": [],
   "source": [
    "dataset_short_name  = 'reanalysis-era5-single-levels'\n",
    "# month               = ['0'+str(n) if n<9 else str(n) for n in np.linspace(1, 12, 12, dtype=int)] \n",
    "# year                = [str(n) for n in np.linspace(2016, 2020, 5, dtype=int)]\n",
    "path_folder         = 'data/WORLD/'\n",
    "\n",
    "for y in ['2021']:#year:\n",
    "    for m in [\"08\"]:#['0'+str(n) if n<9 else str(n) for n in np.linspace(1, 12, 12, dtype=int)]:\n",
    "        print(f\"started year: {y}, month: {m}\")\n",
    "        name_file       = 'waves'+y+m+'.grib'\n",
    "        kwargs_request  = dict(\n",
    "            format = 'grib', \n",
    "            area = [90, -180, -90, 180,], #North, West, South, East\n",
    "            variable = ['mean_wave_direction', 'peak_wave_period', 'significant_height_of_combined_wind_waves_and_swell',],\n",
    "            time   = ['00:00', '03:00', '06:00', '09:00', '12:00', '15:00', '18:00', '21:00',],\n",
    "            day    = ['0'+str(n) if n<9 else str(n) for n in np.linspace(1, 31, 31, dtype=int)],\n",
    "            month  = [m], \n",
    "            year=[y],\n",
    "            product_type = 'reanalysis',\n",
    "        )\n",
    "        request_info_from_copernicus(dataset_short_name, kwargs_request, path_folder, name_file)\n",
    "        print(f\"finished year: {y}, month: {m}\")"
   ]
  },
  {
   "cell_type": "code",
   "execution_count": 4,
   "id": "bf85bc32",
   "metadata": {},
   "outputs": [],
   "source": [
    "ds = xr.open_dataset('data/WORLD/waves202108.grib', drop_variables=[\"number\", \"step\", \"meanSea\", \"valid_time\"], decode_coords=\"all\").rename({\"pp1d\": \"Tp\"})\n",
    "ds['Te'] = ds['Tp']*0.9\n",
    "ds['Power'] = 0.5*ds.Te*(ds.swh**2)\n",
    "ds = ds.rio.write_crs(\"epsg:4326\").drop_vars([\"spatial_ref\"])"
   ]
  },
  {
   "cell_type": "code",
   "execution_count": null,
   "id": "a9f02209",
   "metadata": {},
   "outputs": [],
   "source": [
    "def plotting_data(ds, variable, t_i, vmin, vmax, cmap, nombre_variable, format_date, cbar_label):\n",
    "    fig = plt.figure(figsize=(21,9))\n",
    "    ax = plt.subplot(111, projection=ccrs.PlateCarree())\n",
    "    obj = ds.isel(time=t_i)[variable].plot.pcolormesh(ax=ax, cmap=cmap, vmin=vmin, vmax=vmax, transform=ccrs.PlateCarree(), cbar_kwargs={\"label\": cbar_label, 'extend':'max'})\n",
    "    ax.coastlines()\n",
    "    ax.gridlines(linestyle=\":\", draw_labels=True)\n",
    "    ax.set_extent([-180, 180, -90, 90])\n",
    "    ax.set_title(f\"{pd.to_datetime(ds.time[t_i].values, format_date).strftime(format_date)}\", fontsize=14, fontweight='bold')\n",
    "    obj.colorbar.set_label(\"Altura significativa (m)\", fontsize=12, fontweight='bold')\n",
    "    fig.savefig(\"data/WORLD/frames/\"+variable+\"_\"+str(t_i)+\".png\", dpi=300, bbox_inches='tight', edgecolor='black', facecolor='white')\n",
    "    plt.close(fig)\n",
    "    return fig\n",
    "\n",
    "for t_i in range(0, len(ds.time)):\n",
    "    # print(f\"started time: {t_i}\")\n",
    "    fig = plotting_data(ds, \"swh\", t_i, vmin=0, vmax=8, cmap='jet', nombre_variable=\"Altura significativa (m)\", format_date=\"%Y-%m-%d %H:%M:%S\", cbar_label=\"Altura significativa (m)\")\n",
    "    print(f\"finished time: {t_i}\")"
   ]
  },
  {
   "cell_type": "code",
   "execution_count": 5,
   "id": "18cb5b92",
   "metadata": {},
   "outputs": [],
   "source": [
    "import os\n",
    "variable = \"swh\"\n",
    "for t_i in range(0, len(ds.time)):\n",
    "    if t_i < 10:\n",
    "        os.rename(\"data/WORLD/frames/\"+variable+\"_\"+str(t_i)+\".png\", \"data/WORLD/frames/\"+variable+\"_00\"+str(t_i)+\".png\")\n",
    "    elif t_i < 100:\n",
    "        os.rename(\"data/WORLD/frames/\"+variable+\"_\"+str(t_i)+\".png\", \"data/WORLD/frames/\"+variable+\"_0\"+str(t_i)+\".png\")\n",
    "    else:\n",
    "        pass"
   ]
  },
  {
   "cell_type": "code",
   "execution_count": null,
   "id": "e76a8180",
   "metadata": {},
   "outputs": [],
   "source": []
  },
  {
   "cell_type": "code",
   "execution_count": null,
   "metadata": {},
   "outputs": [],
   "source": [
    "plt.show()"
   ]
  },
  {
   "cell_type": "markdown",
   "id": "66ac25dc-8b92-4ab8-9f8e-c5932fb0b364",
   "metadata": {
    "jp-MarkdownHeadingCollapsed": true,
    "tags": []
   },
   "source": [
    "# Extras"
   ]
  },
  {
   "cell_type": "code",
   "execution_count": null,
   "id": "06980fa7",
   "metadata": {},
   "outputs": [],
   "source": [
    "from IPython.display import display\n",
    "\n",
    "tags = {\"landuse\":True}\n",
    "landuse = ox.geometries_from_place(place_name, tags=tags)\n",
    "display(landuse.head())\n",
    "display(landuse.geometry.geom_type.unique())"
   ]
  },
  {
   "cell_type": "code",
   "execution_count": null,
   "id": "aaf2ff5f-4a3a-4d5f-b485-bc4375b1ba82",
   "metadata": {},
   "outputs": [],
   "source": []
  },
  {
   "cell_type": "code",
   "execution_count": null,
   "id": "69d36631",
   "metadata": {},
   "outputs": [],
   "source": [
    "import numpy as np\n",
    "import xarray as xr\n",
    "import cdsapi\n",
    "import os\n",
    "import rioxarray\n",
    "ds = xr.open_dataset(\"data/Portugal/20211109_011920_GFS_P25_.grb2\", drop_variables=[\"time\", \"heightAboveGround\"])\n",
    "# ds.coords['longitude'] = (ds.coords['longitude'] + 180) % 360 - 180\n",
    "ds[\"wind\"] = np.sqrt(ds[\"u10\"]**2 + ds[\"v10\"]**2)\n",
    "ds = ds.swap_dims({'step': 'valid_time'}).drop_vars([\"step\"]).rename({'valid_time': 'time'})\n",
    "\n",
    "\n",
    "new_longitude = np.linspace(ds.longitude.min(), ds.longitude.max(), len(ds.longitude)*10)\n",
    "new_latitude = np.linspace(ds.latitude.min(), ds.latitude.max(), len(ds.latitude)*10)\n",
    "\n",
    "# ds_interp = ds.interp(longitude=new_longitude, latitude=new_latitude, method='linear')\\\n",
    "ds_interp = ds.sel(time=slice('2021-11-09T00:00:00', '2021-11-09T21:00:00'))\\\n",
    "        .mean(dim=\"time\")\n",
    "ds_interp = ds_interp.sortby([\"latitude\", \"longitude\"])\n",
    "ds_interp.rio.write_crs(\"epsg:4326\", inplace=True)\n",
    "ds_interp.to_netcdf(\"data/Portugal/20211109_011920_GFS_P25_MEAN.nc\")"
   ]
  }
 ],
 "metadata": {
  "interpreter": {
   "hash": "0402dabae8b23d8b5afb1fd4b5b951a10d759731325203b513c39037a8670cc8"
  },
  "kernelspec": {
   "display_name": "Python 3 (ipykernel)",
   "language": "python",
   "name": "python3"
  },
  "language_info": {
   "codemirror_mode": {
    "name": "ipython",
    "version": 3
   },
   "file_extension": ".py",
   "mimetype": "text/x-python",
   "name": "python",
   "nbconvert_exporter": "python",
   "pygments_lexer": "ipython3",
   "version": "3.8.12"
  }
 },
 "nbformat": 4,
 "nbformat_minor": 5
}
