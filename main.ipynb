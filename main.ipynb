{
 "cells": [
  {
   "cell_type": "markdown",
   "id": "ce97e9a9-c6e4-4b78-9fa2-98c5982e726f",
   "metadata": {
    "tags": []
   },
   "source": [
    "# **Día 2:** Lines"
   ]
  },
  {
   "cell_type": "code",
   "execution_count": null,
   "id": "d08d4d2e-ad8e-4825-9ca3-042930c33476",
   "metadata": {},
   "outputs": [],
   "source": [
    "import osmnx as ox\n",
    "import matplotlib.pyplot as plt\n",
    "%matplotlib inline\n",
    "\n",
    "# Specify the name that is used to seach for the data\n",
    "place_name = \"Easter Island, Chile\"\n",
    "\n",
    "# Fetch OSM street network from the location\n",
    "graph = ox.graph_from_place(place_name)\n",
    "\n",
    "fig_kwargs = dict(figsize=(12, 12), bgcolor='white', node_color='k', node_size=2.5, node_alpha=None, node_edgecolor='none', \n",
    "                  node_zorder=1, edge_color='k', edge_linewidth=0.75, edge_alpha=None, show=True, close=False, save=False, \n",
    "                  filepath=None, dpi=300, bbox=None)\n",
    "\n",
    "fig, ax = ox.plot_graph(graph, **fig_kwargs)\n",
    "\n",
    "# Save nodes and edges from the location\n",
    "ox.io.save_graph_geopackage(graph, filepath=\"data/EasterIsland/EasterIsland.gpkg\")"
   ]
  },
  {
   "cell_type": "markdown",
   "id": "ed6345e9-65e9-4580-b3f8-1beb0e496f1f",
   "metadata": {},
   "source": [
    "# **Day 07 and 08:** Green and Blue"
   ]
  },
  {
   "cell_type": "code",
   "execution_count": null,
   "id": "ae277563",
   "metadata": {},
   "outputs": [],
   "source": [
    "import pandas as pd\n",
    "import geopandas as gpd\n",
    "from IPython.display import display\n",
    "\n",
    "df = pd.read_csv(\"data/chile/sdm-102021.csv\")\n",
    "display(df.head())\n",
    "gdf = gpd.read_file(\"data/chile/COMUNA/COMUNAS_2020.shp\").astype({\"CUT_REG\": \"int64\", \"CUT_PROV\": \"int64\",\"CUT_COM\": \"int64\",})\n",
    "display(gdf.head())"
   ]
  },
  {
   "cell_type": "code",
   "execution_count": null,
   "id": "3aec406c",
   "metadata": {},
   "outputs": [],
   "source": [
    "df.columns "
   ]
  },
  {
   "cell_type": "code",
   "execution_count": null,
   "id": "5d0cde59",
   "metadata": {},
   "outputs": [],
   "source": [
    "rename_columns  = {\" N° Hombre\": \"N_Hombre\", \" Mto.Hombre\": \"Monto_Hombre\", \"Nº Mujer\": \"N_Mujer\", \" Mto.Mujer\": \"Monto_Mujer\", \" Nº\": \"N_Total\", \" Monto m$\": \"Monto_Total\"} \n",
    "drop_columns    = [\"Región\", \"Cód Comuna\", \"Glosa Comuna\", \"cod_reg\", \"SUPERFICIE\"]\n",
    "reindex_columns = [\"CUT_REG\", \"CUT_PROV\", \"CUT_COM\", \"REGION\", \"PROVINCIA\", \"COMUNA\", \n",
    "\"N_Hombre\", \"Monto_Hombre\", \"N_Mujer\", \"Monto_Mujer\", \"N_Total\", \"Monto_Total\", \"geometry\"]\n",
    "\n",
    "join_df = gpd.GeoDataFrame(df.merge(gdf, how=\"inner\", left_on=\"Cód Comuna\", right_on =\"CUT_COM\")\\\n",
    "    .rename(columns = rename_columns)\\\n",
    "        .drop(columns = drop_columns)\\\n",
    "            .reindex(columns = reindex_columns)).set_crs(\"EPSG:4326\", allow_override=True)\n",
    "join_df.head()"
   ]
  },
  {
   "cell_type": "code",
   "execution_count": null,
   "id": "ec13917a",
   "metadata": {},
   "outputs": [],
   "source": [
    "join_df.plot()"
   ]
  },
  {
   "cell_type": "code",
   "execution_count": null,
   "id": "9f44a3d0",
   "metadata": {},
   "outputs": [],
   "source": [
    "def save_geodataframe(gdf, filepath):\n",
    "    for geotype in ['Point', 'LineString', 'Polygon', 'MultiPoint', 'MultiLineString', 'MultiPolygon']:\n",
    "        if (gdf.geometry.geom_type == geotype).any():\n",
    "            gdf.loc[gdf.geometry.geom_type == geotype].to_file(filepath, driver=\"GPKG\", layer=geotype)\n",
    "\n",
    "save_geodataframe(join_df, \"data/chile/sdm-102021.gpkg\")"
   ]
  },
  {
   "cell_type": "code",
   "execution_count": null,
   "id": "0c7113aa",
   "metadata": {},
   "outputs": [],
   "source": [
    "group_df = df.groupby(\"Región\").sum()\n",
    "group_df['montoxpersona'] = group_df[' Monto m$']/group_df[' Nº']\n",
    "group_df.to_csv(\"data\\chile\\group_sdm-102021.csv\")"
   ]
  },
  {
   "cell_type": "markdown",
   "id": "3df6db4e",
   "metadata": {},
   "source": [
    "# **Day 10:** Raster"
   ]
  },
  {
   "cell_type": "code",
   "execution_count": null,
   "id": "16bc794e",
   "metadata": {},
   "outputs": [],
   "source": [
    "import numpy as np\n",
    "import xarray as xr\n",
    "import cdsapi\n",
    "import os\n",
    "import rioxarray\n",
    "import cartopy.crs as ccrs"
   ]
  },
  {
   "cell_type": "code",
   "execution_count": null,
   "id": "b039491f",
   "metadata": {},
   "outputs": [],
   "source": [
    "def request_info_from_copernicus(dataset_short_name, kwargs_request, path_folder, name_file):\n",
    "    #start client\n",
    "    c = cdsapi.Client()\n",
    "    #check if folder is created\n",
    "    if os.path.isdir(path_folder) == False:\n",
    "        os.mkdir(path_folder)\n",
    "    else:\n",
    "        pass\n",
    "    #start request\n",
    "    c.retrieve(\n",
    "        dataset_short_name, \n",
    "        kwargs_request, \n",
    "        path_folder+name_file\n",
    "        )\n",
    "    return"
   ]
  },
  {
   "cell_type": "code",
   "execution_count": null,
   "id": "a6b8cf2d",
   "metadata": {},
   "outputs": [],
   "source": [
    "dataset_short_name  = 'reanalysis-era5-single-levels'\n",
    "# month               = ['0'+str(n) if n<9 else str(n) for n in np.linspace(1, 12, 12, dtype=int)] \n",
    "# year                = [str(n) for n in np.linspace(2016, 2020, 5, dtype=int)]\n",
    "path_folder         = 'data/WORLD/'\n",
    "\n",
    "for y in ['2021']:#year:\n",
    "    for m in [\"08\"]:#['0'+str(n) if n<9 else str(n) for n in np.linspace(1, 12, 12, dtype=int)]:\n",
    "        print(f\"started year: {y}, month: {m}\")\n",
    "        name_file       = 'waves'+y+m+'.grib'\n",
    "        kwargs_request  = dict(\n",
    "            format = 'grib', \n",
    "            area = [90, -180, -90, 180,], #North, West, South, East\n",
    "            variable = ['mean_wave_direction', 'peak_wave_period', 'significant_height_of_combined_wind_waves_and_swell',],\n",
    "            time   = ['00:00', '03:00', '06:00', '09:00', '12:00', '15:00', '18:00', '21:00',],\n",
    "            day    = ['0'+str(n) if n<9 else str(n) for n in np.linspace(1, 31, 31, dtype=int)],\n",
    "            month  = [m], \n",
    "            year=[y],\n",
    "            product_type = 'reanalysis',\n",
    "        )\n",
    "        request_info_from_copernicus(dataset_short_name, kwargs_request, path_folder, name_file)\n",
    "        print(f\"finished year: {y}, month: {m}\")"
   ]
  },
  {
   "cell_type": "code",
   "execution_count": null,
   "id": "bf85bc32",
   "metadata": {},
   "outputs": [],
   "source": [
    "ds = xr.open_dataset('data/WORLD/waves202108.grib', drop_variables=[\"number\", \"step\", \"meanSea\", \"valid_time\"], decode_coords=\"all\").rename({\"pp1d\": \"Tp\"})\n",
    "ds['Te'] = ds['Tp']*0.9\n",
    "ds['Power'] = 0.5*ds.Te*(ds.swh**2)\n",
    "ds = ds.rio.write_crs(\"epsg:4326\").drop_vars([\"spatial_ref\"])"
   ]
  },
  {
   "cell_type": "code",
   "execution_count": null,
   "id": "a9f02209",
   "metadata": {},
   "outputs": [],
   "source": [
    "def plotting_data(ds, variable, t_i, vmin, vmax, cmap, nombre_variable, format_date, cbar_label):\n",
    "    fig = plt.figure(figsize=(21,9))\n",
    "    ax = plt.subplot(111, projection=ccrs.PlateCarree())\n",
    "    obj = ds.isel(time=t_i)[variable].plot.pcolormesh(ax=ax, cmap=cmap, vmin=vmin, vmax=vmax, transform=ccrs.PlateCarree(), cbar_kwargs={\"label\": cbar_label, 'extend':'max'})\n",
    "    ax.coastlines()\n",
    "    ax.gridlines(linestyle=\":\", draw_labels=True)\n",
    "    ax.set_extent([-180, 180, -90, 90])\n",
    "    ax.set_title(f\"{pd.to_datetime(ds.time[t_i].values, format_date).strftime(format_date)}\", fontsize=14, fontweight='bold')\n",
    "    obj.colorbar.set_label(\"Altura significativa (m)\", fontsize=12, fontweight='bold')\n",
    "    fig.savefig(\"data/WORLD/frames/\"+variable+\"_\"+str(t_i)+\".png\", dpi=300, bbox_inches='tight', edgecolor='black', facecolor='white')\n",
    "    plt.close(fig)\n",
    "    return fig\n",
    "\n",
    "for t_i in range(0, len(ds.time)):\n",
    "    # print(f\"started time: {t_i}\")\n",
    "    fig = plotting_data(ds, \"swh\", t_i, vmin=0, vmax=8, cmap='jet', nombre_variable=\"Altura significativa (m)\", format_date=\"%Y-%m-%d %H:%M:%S\", cbar_label=\"Altura significativa (m)\")\n",
    "    print(f\"finished time: {t_i}\")"
   ]
  },
  {
   "cell_type": "code",
   "execution_count": null,
   "id": "18cb5b92",
   "metadata": {},
   "outputs": [],
   "source": [
    "import os\n",
    "variable = \"swh\"\n",
    "for t_i in range(0, len(ds.time)):\n",
    "    if t_i < 10:\n",
    "        os.rename(\"data/WORLD/frames/\"+variable+\"_\"+str(t_i)+\".png\", \"data/WORLD/frames/\"+variable+\"_00\"+str(t_i)+\".png\")\n",
    "    elif t_i < 100:\n",
    "        os.rename(\"data/WORLD/frames/\"+variable+\"_\"+str(t_i)+\".png\", \"data/WORLD/frames/\"+variable+\"_0\"+str(t_i)+\".png\")\n",
    "    else:\n",
    "        pass"
   ]
  },
  {
   "cell_type": "markdown",
   "id": "e76a8180",
   "metadata": {},
   "source": [
    "# **Day 12:** Population"
   ]
  },
  {
   "cell_type": "code",
   "execution_count": null,
   "id": "907d54b3",
   "metadata": {},
   "outputs": [],
   "source": [
    "import geopandas as gpd\n",
    "import pandas as pd\n",
    "import matplotlib.pyplot as plt\n",
    "import cartopy.crs as ccrs"
   ]
  },
  {
   "cell_type": "code",
   "execution_count": null,
   "id": "85e2b020",
   "metadata": {},
   "outputs": [],
   "source": [
    "gdf_comuna  = gpd.read_file(\"data\\chile\\censo2017\\conce\\Microdatos_Manzana_conce.shp\")"
   ]
  },
  {
   "cell_type": "code",
   "execution_count": null,
   "id": "648f5184",
   "metadata": {},
   "outputs": [],
   "source": [
    "print(\"Columnas shapefile por comunas:\", gdf_comuna.columns)"
   ]
  },
  {
   "cell_type": "code",
   "execution_count": null,
   "id": "ec220b38",
   "metadata": {},
   "outputs": [],
   "source": [
    "fig, axes = plt.subplots(ncols = 4, figsize=(20,4))\n",
    "\n",
    "for ax, col_name in zip(axes, ['DE_0_A_5_A','DE_6_A_14_', 'DE_15_A_64', 'DE_65_MAS_']):\n",
    "    gdf_comuna[col_name] = gdf_comuna[col_name].replace({'Indeterminado':0}).astype(\"int64\")\n",
    "    gdf_comuna[col_name].plot(kind='hist', ax=ax, logy=True)\n",
    "    ax.set_title(col_name)"
   ]
  },
  {
   "cell_type": "code",
   "execution_count": null,
   "id": "510ada6c",
   "metadata": {},
   "outputs": [],
   "source": [
    "gdf_comuna[['DE_0_A_5_A','DE_6_A_14_', 'DE_15_A_64', 'DE_65_MAS_']].describe()"
   ]
  },
  {
   "cell_type": "code",
   "execution_count": null,
   "id": "4a5fa42e",
   "metadata": {},
   "outputs": [],
   "source": [
    "def save_geodataframe(gdf, filepath):\n",
    "    for geotype in ['Point', 'LineString', 'Polygon', 'MultiPoint', 'MultiLineString', 'MultiPolygon']:\n",
    "        if (gdf.geometry.geom_type == geotype).any():\n",
    "            gdf.loc[gdf.geometry.geom_type == geotype].to_file(filepath, driver=\"GPKG\", layer=geotype)\n",
    "\n",
    "save_geodataframe(gdf_comuna, \"data\\chile\\censo2017\\conce\\Microdatos_Manzana_conce.gpkg\")"
   ]
  },
  {
   "cell_type": "markdown",
   "id": "7d7626ec",
   "metadata": {},
   "source": [
    "# **Day 13:** Data challenge 2: Natural Earth"
   ]
  },
  {
   "cell_type": "markdown",
   "id": "13112048",
   "metadata": {},
   "source": [
    "# 1. Reading files"
   ]
  },
  {
   "cell_type": "code",
   "execution_count": null,
   "id": "8d6cda5b",
   "metadata": {},
   "outputs": [],
   "source": [
    "import geopandas as gpd\n",
    "import pandas as pd\n",
    "import matplotlib.pyplot as plt\n",
    "import cartopy.crs as ccrs"
   ]
  },
  {
   "cell_type": "code",
   "execution_count": null,
   "id": "b7c5b212",
   "metadata": {},
   "outputs": [],
   "source": [
    "path_file = \"https://raw.githubusercontent.com/nvkelso/natural-earth-vector/master/geojson/\"\n",
    "# name_file = \"ne_10m_geography_marine_polys.geojson\" #\"ne_10m_coastline.geojson\"\n",
    "name_files = [\"ne_10m_coastline.geojson\", \"ne_10m_ocean.geojson\", \"ne_10m_ports.geojson\"]\n",
    "gdf_10m_coastline       = gpd.read_file(path_file+name_files[0], driver='GeoJSON')\n",
    "gdf_10m_ocean           = gpd.read_file(path_file+name_files[1], driver='GeoJSON')\n",
    "gdf_10m_ports           = gpd.read_file(path_file+name_files[2], driver='GeoJSON')"
   ]
  },
  {
   "cell_type": "code",
   "execution_count": null,
   "id": "93f6009d",
   "metadata": {},
   "outputs": [],
   "source": [
    "gdf_10m_coastline.head()"
   ]
  },
  {
   "cell_type": "code",
   "execution_count": null,
   "id": "cc5b71b5",
   "metadata": {},
   "outputs": [],
   "source": [
    "gdf_10m_ocean.head()"
   ]
  },
  {
   "cell_type": "code",
   "execution_count": null,
   "id": "88701111",
   "metadata": {},
   "outputs": [],
   "source": [
    "gdf_10m_ports.head()"
   ]
  },
  {
   "cell_type": "markdown",
   "id": "5e0f49f3",
   "metadata": {},
   "source": [
    "# Making a classification"
   ]
  },
  {
   "cell_type": "code",
   "execution_count": null,
   "id": "24cd98d8",
   "metadata": {},
   "outputs": [],
   "source": [
    "lon, lat    = gdf_10m_ports.geometry.x, gdf_10m_ports.geometry.y\n",
    "gdf_10m_ports[\"coordinates\"] = list(zip(lon, lat))"
   ]
  },
  {
   "cell_type": "code",
   "execution_count": null,
   "id": "0a71e83a",
   "metadata": {},
   "outputs": [],
   "source": [
    "gdf_10m_ports.head()"
   ]
  },
  {
   "cell_type": "code",
   "execution_count": null,
   "id": "dbc081e6",
   "metadata": {},
   "outputs": [],
   "source": [
    "#import kmeans from scikit-learn\n",
    "from sklearn.cluster import KMeans\n",
    "distortions = []\n",
    "K = range(1,30)\n",
    "data = np.array(list(zip(lon, lat)))\n",
    "for k in K:\n",
    "    kmeanModel = KMeans(n_clusters=k, random_state=42)\n",
    "    kmeanModel.fit(data)\n",
    "    distortions.append(kmeanModel.inertia_)"
   ]
  },
  {
   "cell_type": "code",
   "execution_count": null,
   "id": "694ee809",
   "metadata": {},
   "outputs": [],
   "source": [
    "plt.figure(figsize=(16,8))\n",
    "plt.plot(K, distortions, 'bx-')\n",
    "plt.xlabel('k')\n",
    "plt.ylabel('Distortion')\n",
    "plt.title('The Elbow Method showing the optimal k')\n",
    "plt.xticks(np.arange(1, 30, 1))\n",
    "plt.savefig(\"maps/kmeans_elbow.png\", dpi=300, bbox_inches='tight', edgecolor='black', facecolor='white')\n",
    "plt.show()"
   ]
  },
  {
   "cell_type": "code",
   "execution_count": null,
   "id": "4b1e17c1",
   "metadata": {},
   "outputs": [],
   "source": [
    "kmeanModel = KMeans(n_clusters=3, random_state=42)\n",
    "kmeanModel.fit(data)\n",
    "gdf_10m_ports[\"kmeans_label\"] = kmeanModel.labels_"
   ]
  },
  {
   "cell_type": "code",
   "execution_count": null,
   "id": "b41b5977",
   "metadata": {},
   "outputs": [],
   "source": [
    "gdf_10m_ports"
   ]
  },
  {
   "cell_type": "code",
   "execution_count": null,
   "id": "ba94c42e",
   "metadata": {},
   "outputs": [],
   "source": [
    "fig, ax = plt.subplots(figsize=(20,10), subplot_kw=dict(projection=ccrs.PlateCarree()))\n",
    "# gdf_10m_ocean.plot(ax=ax, color='#0080ff', alpha=0.25, zorder=0, lw=1, transform=ccrs.PlateCarree())\n",
    "# gdf_10m_ports.plot(ax=ax, color='#ff0000', alpha=0.25, lw=0.75, zorder=2, transform=ccrs.PlateCarree())\n",
    "gdf_10m_ports.plot(\n",
    "    ax=ax, zorder=2, transform=ccrs.PlateCarree(), column='kmeans_label', legend=True, categorical=True, legend_kwds={'title': 'Clusters', 'loc':6},\n",
    "    markersize = 15, marker='o', cmap='Dark2_r'\n",
    "    )\n",
    "ax.set_title(\"Clasificación no supervisada en base a las coordenadas de cada uno de los puertos en el mundo.\", pad=20, fontsize=16, fontweight='bold')\n",
    "ax.coastlines()\n",
    "ax.gridlines(linestyle=\":\", draw_labels=True, linewidth=1, color='black', alpha=0.5)\n",
    "ax.set_extent([-180, 180, -90, 90])\n",
    "ax.background_img()\n",
    "\n",
    "centers = kmeanModel.cluster_centers_\n",
    "ax.scatter(centers[:, 0], centers[:, 1], c='black', s=750, alpha=0.5, zorder=3, transform=ccrs.PlateCarree(), marker='*')\n",
    "\n",
    "fig.savefig(\"maps/30DayMapChallengeDay13.png\", dpi=300, edgecolor=\"k\", facecolor=\"white\", bbox_inches='tight')\n",
    "plt.show()"
   ]
  },
  {
   "cell_type": "markdown",
   "id": "1d221d20",
   "metadata": {},
   "source": [
    "# **Day 18:** Water\t(Oceans, lakes, rivers or something completely different)"
   ]
  },
  {
   "cell_type": "code",
   "execution_count": 1,
   "id": "8c5b7974",
   "metadata": {},
   "outputs": [],
   "source": []
  },
  {
   "cell_type": "code",
   "execution_count": 8,
   "id": "7fb13d5f",
   "metadata": {},
   "outputs": [
    {
     "data": {
      "application/vnd.jupyter.widget-view+json": {
       "model_id": "1d88959e60004cd8aebdb58303f820a2",
       "version_major": 2,
       "version_minor": 0
      },
      "text/plain": [
       "Map(center=[-34.7814588, -71.0948115], controls=(WidgetControl(options=['position', 'transparent_bg'], widget=…"
      ]
     },
     "metadata": {},
     "output_type": "display_data"
    }
   ],
   "source": []
  },
  {
   "cell_type": "markdown",
   "id": "66ac25dc-8b92-4ab8-9f8e-c5932fb0b364",
   "metadata": {
    "jp-MarkdownHeadingCollapsed": true,
    "tags": []
   },
   "source": [
    "# Extras"
   ]
  },
  {
   "cell_type": "code",
   "execution_count": null,
   "id": "06980fa7",
   "metadata": {},
   "outputs": [],
   "source": [
    "from IPython.display import display\n",
    "\n",
    "tags = {\"landuse\":True}\n",
    "landuse = ox.geometries_from_place(place_name, tags=tags)\n",
    "display(landuse.head())\n",
    "display(landuse.geometry.geom_type.unique())"
   ]
  },
  {
   "cell_type": "code",
   "execution_count": null,
   "id": "aaf2ff5f-4a3a-4d5f-b485-bc4375b1ba82",
   "metadata": {},
   "outputs": [],
   "source": []
  },
  {
   "cell_type": "code",
   "execution_count": null,
   "id": "69d36631",
   "metadata": {},
   "outputs": [],
   "source": [
    "import numpy as np\n",
    "import xarray as xr\n",
    "import cdsapi\n",
    "import os\n",
    "import rioxarray\n",
    "ds = xr.open_dataset(\"data/Portugal/20211109_011920_GFS_P25_.grb2\", drop_variables=[\"time\", \"heightAboveGround\"])\n",
    "# ds.coords['longitude'] = (ds.coords['longitude'] + 180) % 360 - 180\n",
    "ds[\"wind\"] = np.sqrt(ds[\"u10\"]**2 + ds[\"v10\"]**2)\n",
    "ds = ds.swap_dims({'step': 'valid_time'}).drop_vars([\"step\"]).rename({'valid_time': 'time'})\n",
    "\n",
    "\n",
    "new_longitude = np.linspace(ds.longitude.min(), ds.longitude.max(), len(ds.longitude)*10)\n",
    "new_latitude = np.linspace(ds.latitude.min(), ds.latitude.max(), len(ds.latitude)*10)\n",
    "\n",
    "# ds_interp = ds.interp(longitude=new_longitude, latitude=new_latitude, method='linear')\\\n",
    "ds_interp = ds.sel(time=slice('2021-11-09T00:00:00', '2021-11-09T21:00:00'))\\\n",
    "        .mean(dim=\"time\")\n",
    "ds_interp = ds_interp.sortby([\"latitude\", \"longitude\"])\n",
    "ds_interp.rio.write_crs(\"epsg:4326\", inplace=True)\n",
    "ds_interp.to_netcdf(\"data/Portugal/20211109_011920_GFS_P25_MEAN.nc\")"
   ]
  }
 ],
 "metadata": {
  "interpreter": {
   "hash": "0402dabae8b23d8b5afb1fd4b5b951a10d759731325203b513c39037a8670cc8"
  },
  "kernelspec": {
   "display_name": "Python 3 (ipykernel)",
   "language": "python",
   "name": "python3"
  },
  "language_info": {
   "codemirror_mode": {
    "name": "ipython",
    "version": 3
   },
   "file_extension": ".py",
   "mimetype": "text/x-python",
   "name": "python",
   "nbconvert_exporter": "python",
   "pygments_lexer": "ipython3",
   "version": "3.8.12"
  }
 },
 "nbformat": 4,
 "nbformat_minor": 5
}
